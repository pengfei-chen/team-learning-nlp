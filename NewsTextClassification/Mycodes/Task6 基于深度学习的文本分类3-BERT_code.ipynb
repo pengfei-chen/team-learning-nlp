{
 "cells": [
  {
   "cell_type": "markdown",
   "id": "14d1197f",
   "metadata": {},
   "source": [
    "### BERT\n",
    "\n",
    "微调将最后一层的第一个token即[CLS]的隐藏向量作为句子的表示，然后输入到softmax层进行分类。\n",
    "\n",
    "预训练BERT以及相关代码下载地址：链接: https://pan.baidu.com/s/1zd6wN7elGgp1NyuzYKpvGQ 提取码: tmp5"
   ]
  },
  {
   "cell_type": "code",
   "execution_count": null,
   "id": "fa20260c",
   "metadata": {},
   "outputs": [],
   "source": []
  }
 ],
 "metadata": {
  "kernelspec": {
   "display_name": "Python [conda env:nlp_with_transformers]",
   "language": "python",
   "name": "conda-env-nlp_with_transformers-py"
  },
  "language_info": {
   "codemirror_mode": {
    "name": "ipython",
    "version": 3
   },
   "file_extension": ".py",
   "mimetype": "text/x-python",
   "name": "python",
   "nbconvert_exporter": "python",
   "pygments_lexer": "ipython3",
   "version": "3.8.11"
  }
 },
 "nbformat": 4,
 "nbformat_minor": 5
}
