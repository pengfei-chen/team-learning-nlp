{
 "cells": [
  {
   "cell_type": "markdown",
   "id": "eabf8772",
   "metadata": {},
   "source": [
    "**使用gensim训练word2vec**"
   ]
  },
  {
   "cell_type": "code",
   "execution_count": 1,
   "id": "7b196174",
   "metadata": {},
   "outputs": [
    {
     "data": {
      "text/plain": [
       "<torch._C.Generator at 0x23cbd884bd0>"
      ]
     },
     "execution_count": 1,
     "metadata": {},
     "output_type": "execute_result"
    }
   ],
   "source": [
    "import logging\n",
    "import random\n",
    "\n",
    "import numpy as np\n",
    "import torch\n",
    "\n",
    "logging.basicConfig(level=logging.INFO, format='%(asctime)-15s %(levelname)s: %(message)s')\n",
    "\n",
    "# set seed \n",
    "seed = 666\n",
    "random.seed(seed)\n",
    "np.random.seed(seed)\n",
    "torch.cuda.manual_seed(seed)\n",
    "torch.manual_seed(seed)"
   ]
  },
  {
   "cell_type": "code",
   "execution_count": 7,
   "id": "4be5df27",
   "metadata": {},
   "outputs": [],
   "source": [
    "# split data to 10 fold\n",
    "fold_num = 10\n",
    "data_file = r'E:\\deeplearning_data\\NewsTextClassification_Data\\train_set.csv'\n",
    "import pandas as pd"
   ]
  },
  {
   "cell_type": "code",
   "execution_count": 8,
   "id": "bbfbd017",
   "metadata": {},
   "outputs": [
    {
     "name": "stderr",
     "output_type": "stream",
     "text": [
      "2021-09-24 17:09:36,694 INFO: Fold lens [20000, 20000, 20000, 20000, 20000, 20000, 20000, 20000, 20000, 20000]\n"
     ]
    }
   ],
   "source": [
    "def all_data2fold(fold_num):\n",
    "    fold_data = []\n",
    "    f = pd.read_csv(data_file, sep='\\t', encoding='UTF-8')\n",
    "    texts = f['text'].tolist()\n",
    "    labels = f['label'].tolist()\n",
    "\n",
    "    total = len(labels)\n",
    "\n",
    "    index = list(range(total))\n",
    "    np.random.shuffle(index)\n",
    "\n",
    "    all_texts = []\n",
    "    all_labels = []\n",
    "    for i in index:\n",
    "        all_texts.append(texts[i])\n",
    "        all_labels.append(labels[i])\n",
    "\n",
    "    # 对应前面章节的代码\n",
    "    label2id = {}  # 这里储存的是 标签对应 内容的编码索引 i 么？\n",
    "    for i in range(total):\n",
    "        label = str(all_labels[i])\n",
    "        if label not in label2id:\n",
    "            label2id[label] = [i]\n",
    "        else:\n",
    "            label2id[label].append(i)\n",
    "            \n",
    "    all_index = [[] for _ in range(fold_num)]\n",
    "    for label, data in label2id.items():\n",
    "        # print(label, len(data))\n",
    "        batch_size = int(len(data) / fold_num)\n",
    "        other = len(data) - batch_size * fold_num\n",
    "        for i in range(fold_num):\n",
    "            cur_batch_size = batch_size + 1 if i < other else batch_size\n",
    "            # print(cur_batch_size)\n",
    "            batch_data = [data[i * batch_size + b] for b in range(cur_batch_size)]\n",
    "            all_index[i].extend(batch_data) #存入索引\n",
    "            \n",
    "    batch_size = int(total / fold_num)\n",
    "    other_texts = []\n",
    "    other_labels = []\n",
    "    other_num = 0\n",
    "    start = 0\n",
    "    for fold in range(fold_num):\n",
    "        num = len(all_index[fold])\n",
    "        texts = [all_texts[i] for i in all_index[fold]] #依据索引找到数据\n",
    "        labels = [all_labels[i] for i in all_index[fold]]\n",
    "\n",
    "        if num > batch_size: #裁剪\n",
    "            fold_texts = texts[:batch_size]\n",
    "            other_texts.extend(texts[batch_size:])\n",
    "            fold_labels = labels[:batch_size]\n",
    "            other_labels.extend(labels[batch_size:])\n",
    "            other_num += num - batch_size\n",
    "        elif num < batch_size:\n",
    "            end = start + batch_size - num\n",
    "            fold_texts = texts + other_texts[start: end]\n",
    "            fold_labels = labels + other_labels[start: end]\n",
    "            start = end\n",
    "        else:\n",
    "            fold_texts = texts\n",
    "            fold_labels = labels\n",
    "\n",
    "        assert batch_size == len(fold_labels)\n",
    "\n",
    "        # shuffle\n",
    "        index = list(range(batch_size))\n",
    "        np.random.shuffle(index)\n",
    "\n",
    "        shuffle_fold_texts = []\n",
    "        shuffle_fold_labels = []\n",
    "        for i in index:\n",
    "            shuffle_fold_texts.append(fold_texts[i])\n",
    "            shuffle_fold_labels.append(fold_labels[i])\n",
    "\n",
    "        data = {'label': shuffle_fold_labels, 'text': shuffle_fold_texts}\n",
    "        fold_data.append(data)\n",
    "\n",
    "    logging.info(\"Fold lens %s\", str([len(data['label']) for data in fold_data]))\n",
    "\n",
    "    return fold_data\n",
    "\n",
    "\n",
    "fold_data = all_data2fold(10)"
   ]
  },
  {
   "cell_type": "code",
   "execution_count": 12,
   "id": "33312bf6",
   "metadata": {},
   "outputs": [
    {
     "data": {
      "text/plain": [
       "20000"
      ]
     },
     "execution_count": 12,
     "metadata": {},
     "output_type": "execute_result"
    }
   ],
   "source": [
    "fold_data[0]['text'].__len__()"
   ]
  },
  {
   "cell_type": "code",
   "execution_count": 16,
   "id": "c7b7cbd4",
   "metadata": {},
   "outputs": [
    {
     "data": {
      "text/plain": [
       "1584"
      ]
     },
     "execution_count": 16,
     "metadata": {},
     "output_type": "execute_result"
    }
   ],
   "source": [
    "fold_data[0]['text'][2].__len__()"
   ]
  },
  {
   "cell_type": "code",
   "execution_count": 27,
   "id": "bc6268de",
   "metadata": {},
   "outputs": [
    {
     "name": "stderr",
     "output_type": "stream",
     "text": [
      "2021-09-24 17:21:09,597 INFO: Total 180000 docs.\n"
     ]
    }
   ],
   "source": [
    "# build train data for word2vec\n",
    "fold_id = 9\n",
    "\n",
    "train_texts = []\n",
    "for i in range(0, fold_id):\n",
    "    data = fold_data[i]\n",
    "    train_texts.extend(data['text'])\n",
    "    \n",
    "logging.info('Total %d docs.' % len(train_texts))"
   ]
  },
  {
   "cell_type": "code",
   "execution_count": 28,
   "id": "c558cfdc",
   "metadata": {},
   "outputs": [
    {
     "data": {
      "text/plain": [
       "'6811 1580 7539 6043 3099 980 3223 980 2935 443 2465 2827 5165 307 6656 5619 5883 5736 1953 2899 1315 7539 6043 3099 980 3223 980 2935 443 648 5780 1722 1816 2827 4151 5165 7194 5057 669 3097 7239 1953 7123 3484 6043 3750 3618 7206 2729 5393 6043 3099 6111 5560 6043 3099 7096 1394 4939 6122 5520 2109 6248 1031 5598 3750 1474 4151 648 2827 4151 5165 7194 2212 742 669 3800 656 4490 490 7123 803 5619 5883 5736 1953 1635 648 2891 2210 3015 4148 6017 2770 3300 6038 4231 648 5530 2835 340 3893 2265 2003 900 5028 4223 531 893 4315 3809 1066 6284 2119 2465 3283 2119 4301 3560 648 2827 6485 3661 4089 3477 2119 3694 2465 2851 1018 4301 2119 5057 151 4211 5530 4216 6122 4853 6734 1394 5282 137 623 6656 4490 900 5619 5883 5736 1953 7399 4967 5530 299 1767 5915 1696 3901 669 5169 3750 2345 1060 5560 4558 1060 4939 4603 5948 1699 2975 3750 3440 1953 3692 3694 3809 4128 5915 2975 5393 3901 4659 3750 5998 1460 6040 152 6833 4939 307 6656 4659 6122 1877 2316 671 5598 900 565 742 4811 5445 1323 3800 7509 6567 3618 6810 2717 4190 663 7465 3870 6188 3585 4490 3750 669 19 5041 2265 7387 394 5659 1613 6301 3370 3700 1519 6654 5416 3438 5295 5445 3106 5264 299 648 2851 281 1258 3809 1066 1066 3809 1375 1294 2378 7327 1241 2810 3750 6093 1699 1866 4469 648 2810 4291 2827 5165 900 6609 3641 4967 3263 3613 648 1695 3106 3864 1394 3800 2252 5780 3750 6521 2230 1271 6122 462 3605 4939 5619 5883 5736 1953 3750 2112 3000 6810 974 900 2709 5445 26 4128 2688 5918 4392 1702 5780 3750 2522 2274 4063 531 5977 1871 7044 2378 1735 7154 1141 5445 26 7121 2400 648 6122 3396 900 6535 5598 5619 5883 1638 3750 5619 3994 648 4515 621 4128 1767 7492 4124 3949 6838 2827 7238 7194 4709 299 3811 2810 2109 5918 5736 1953 900 1719 5801 2717 2827 4525 6122 5603 1936 5251 932 6662 1375 5948 5028 4939 1866 1999 4515 350 1638 648 2827 4036 4893 6940 3750 340 4967 648 2851 1018 2154 7077 3018 7444 4190 4751 631 3137 900 669 4490 5998 2729 648 1638 621 4128 669 4939 4893 4893 5393 2847 3706 648 3750 6122 314 2109 5689 1057 1953 7123 4998 4939 3168 1425 900 4287 5011 1871 7044 2109 4469 648 6469 6770 2827 2400 3750 1866 1999 5619 5883 5736 1953 3168 2891 648 2212 5413 5998 2265 3661 3586 281 2154 2119 2465 5271 2119 3586 3586 3809 3586 5598 900 7509 3223 5677 4233 23 3317 7010 4967 3605 5948 4515 350 299 5883 192 1699 299 3106 2376 3396 3750 2541 2212 3554 1116 3554 3956 900 3994 3137 299 1283 2993 648 6122 7013 7395 2252 4298 3750 3038 669 6641 4893 7058 3500 3605 2522 5443 3231'"
      ]
     },
     "execution_count": 28,
     "metadata": {},
     "output_type": "execute_result"
    }
   ],
   "source": [
    "train_texts[179999]"
   ]
  },
  {
   "cell_type": "code",
   "execution_count": 1,
   "id": "f95b1988",
   "metadata": {},
   "outputs": [],
   "source": [
    "# logging.info('Start training...')\n",
    "# from gensim.models.word2vec import Word2Vec\n",
    "\n",
    "# num_features = 100     # Word vector dimensionality\n",
    "# num_workers = 8       # Number of threads to run in parallel\n",
    "\n",
    "# train_texts = list(map(lambda x: list(x.split()), train_texts))\n",
    "# model = Word2Vec(train_texts, workers=num_workers, vector_size=num_features)\n",
    "# model.init_sims(replace=True)\n",
    "\n",
    "# # save model\n",
    "# model.save(\"./word2vec.bin\")"
   ]
  },
  {
   "cell_type": "code",
   "execution_count": 2,
   "id": "25ec643b",
   "metadata": {},
   "outputs": [],
   "source": [
    "# Word2Vec??"
   ]
  },
  {
   "cell_type": "markdown",
   "id": "f925480a",
   "metadata": {},
   "source": [
    "**注：训练后得到的 word2vec 已经保存在 ./data 文件夹中。**"
   ]
  },
  {
   "cell_type": "code",
   "execution_count": null,
   "id": "1ddb7409",
   "metadata": {},
   "outputs": [],
   "source": []
  }
 ],
 "metadata": {
  "kernelspec": {
   "display_name": "Python [conda env:nlp_with_transformers]",
   "language": "python",
   "name": "conda-env-nlp_with_transformers-py"
  },
  "language_info": {
   "codemirror_mode": {
    "name": "ipython",
    "version": 3
   },
   "file_extension": ".py",
   "mimetype": "text/x-python",
   "name": "python",
   "nbconvert_exporter": "python",
   "pygments_lexer": "ipython3",
   "version": "3.8.11"
  }
 },
 "nbformat": 4,
 "nbformat_minor": 5
}
